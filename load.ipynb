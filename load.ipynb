{
 "cells": [
  {
   "cell_type": "code",
   "execution_count": 17,
   "metadata": {},
   "outputs": [],
   "source": [
    "from dotenv import load_dotenv\n",
    "load_dotenv()\n",
    "import os\n",
    "from openai import OpenAI\n",
    "from pinecone import Pinecone, ServerlessSpec"
   ]
  },
  {
   "cell_type": "code",
   "execution_count": 29,
   "metadata": {},
   "outputs": [],
   "source": [
    "pc = Pinecone(api_key=os.getenv(\"PINECONE_API_KEY\"))\n"
   ]
  },
  {
   "cell_type": "code",
   "execution_count": 9,
   "metadata": {},
   "outputs": [
    {
     "data": {
      "text/plain": [
       "[{'professor': 'Dr. John Smith',\n",
       "  'subject': 'Computer Science',\n",
       "  'stars': 5,\n",
       "  'review': 'An exceptional professor with a deep understanding of algorithms. His lectures are clear and well-structured.'},\n",
       " {'professor': 'Dr. Emily Johnson',\n",
       "  'subject': 'Data Science',\n",
       "  'stars': 4,\n",
       "  'review': 'Dr. Johnson is very knowledgeable but her classes can be challenging. However, she is always willing to help.'},\n",
       " {'professor': 'Dr. Michael Brown',\n",
       "  'subject': 'Mathematics',\n",
       "  'stars': 3,\n",
       "  'review': 'The content is difficult but Dr. Brown tries his best to make it understandable. His grading is fair.'},\n",
       " {'professor': 'Dr. Sarah Davis',\n",
       "  'subject': 'Physics',\n",
       "  'stars': 5,\n",
       "  'review': 'Incredible professor with a passion for teaching. Her labs are very engaging and informative.'},\n",
       " {'professor': 'Dr. Richard Wilson',\n",
       "  'subject': 'Chemistry',\n",
       "  'stars': 2,\n",
       "  'review': 'Dr. Wilson’s lectures can be hard to follow. He often goes off on tangents, making it difficult to stay focused.'},\n",
       " {'professor': 'Dr. Jessica Garcia',\n",
       "  'subject': 'Biology',\n",
       "  'stars': 4,\n",
       "  'review': 'Dr. Garcia is a very good professor. Her explanations are clear, but her exams can be tricky.'},\n",
       " {'professor': 'Dr. William Martinez',\n",
       "  'subject': 'History',\n",
       "  'stars': 3,\n",
       "  'review': 'He knows the subject well, but his lectures can be monotonous at times. Be prepared to read a lot.'},\n",
       " {'professor': 'Dr. Patricia Anderson',\n",
       "  'subject': 'English Literature',\n",
       "  'stars': 5,\n",
       "  'review': 'Dr. Anderson makes literature come alive. Her discussions are always engaging and thought-provoking.'},\n",
       " {'professor': 'Dr. James Thomas',\n",
       "  'subject': 'Economics',\n",
       "  'stars': 4,\n",
       "  'review': 'A very knowledgeable professor. He explains economic concepts clearly, but his classes move at a fast pace.'},\n",
       " {'professor': 'Dr. Linda Lee',\n",
       "  'subject': 'Sociology',\n",
       "  'stars': 5,\n",
       "  'review': 'Dr. Lee is an amazing professor who deeply cares about her students. Her classes are both challenging and rewarding.'},\n",
       " {'professor': 'Dr. Robert Harris',\n",
       "  'subject': 'Philosophy',\n",
       "  'stars': 4,\n",
       "  'review': 'Dr. Harris is very engaging in class. His assignments encourage deep thinking, but they can be quite difficult.'},\n",
       " {'professor': 'Dr. Barbara Clark',\n",
       "  'subject': 'Political Science',\n",
       "  'stars': 3,\n",
       "  'review': 'Dr. Clark is knowledgeable but can be a bit unapproachable at times. Her lectures are well-organized though.'},\n",
       " {'professor': 'Dr. Mark Lewis',\n",
       "  'subject': 'Statistics',\n",
       "  'stars': 2,\n",
       "  'review': 'The material is difficult and Dr. Lewis does not explain it well. Be prepared to spend a lot of time studying on your own.'},\n",
       " {'professor': 'Dr. Karen Walker',\n",
       "  'subject': 'Psychology',\n",
       "  'stars': 5,\n",
       "  'review': 'Dr. Walker is passionate about psychology and it shows in her teaching. Her classes are always full of energy.'},\n",
       " {'professor': 'Dr. Steven Young',\n",
       "  'subject': 'Engineering',\n",
       "  'stars': 4,\n",
       "  'review': 'Dr. Young is very thorough and detailed in his explanations. However, his exams are very challenging.'},\n",
       " {'professor': 'Dr. Betty King',\n",
       "  'subject': 'Philosophy',\n",
       "  'stars': 5,\n",
       "  'review': 'Dr. King is an outstanding professor. Her ability to break down complex philosophical ideas is impressive.'},\n",
       " {'professor': 'Dr. Charles Wright',\n",
       "  'subject': 'Chemistry',\n",
       "  'stars': 3,\n",
       "  'review': 'Dr. Wright is very knowledgeable, but his lectures can be dry. However, he is very helpful during office hours.'},\n",
       " {'professor': 'Dr. Susan Scott',\n",
       "  'subject': 'Art History',\n",
       "  'stars': 4,\n",
       "  'review': 'Dr. Scott’s lectures are fascinating. She is passionate about art history, which makes her classes very interesting.'},\n",
       " {'professor': 'Dr. Matthew Green',\n",
       "  'subject': 'Physics',\n",
       "  'stars': 2,\n",
       "  'review': 'Dr. Green’s lectures are hard to follow and he does not provide much help outside of class. The exams are very tough.'},\n",
       " {'professor': 'Dr. Lisa Adams',\n",
       "  'subject': 'Computer Science',\n",
       "  'stars': 5,\n",
       "  'review': 'Dr. Adams is a brilliant professor who makes coding fun and understandable. Her projects are challenging but very rewarding.'}]"
      ]
     },
     "execution_count": 9,
     "metadata": {},
     "output_type": "execute_result"
    }
   ],
   "source": [
    "import json\n",
    "data = json.load(open(\"reviews.json\"))\n",
    "data['reviews']\n"
   ]
  },
  {
   "cell_type": "code",
   "execution_count": 18,
   "metadata": {},
   "outputs": [],
   "source": [
    "processed_data = []\n",
    "client = OpenAI()\n",
    "\n",
    "for review in data['reviews']:\n",
    "    response = client.embeddings.create(\n",
    "        input=review['review'],\n",
    "        model = \"text-embedding-3-small\"\n",
    "    )\n",
    "    embedding = response.data[0].embedding\n",
    "    processed_data.append({\n",
    "        \"values\":embedding,\n",
    "        \"id\":review[\"professor\"],\n",
    "        \"metadata\":{\n",
    "            \"review\": review[\"review\"],\n",
    "            \"subject\": review[\"subject\"],\n",
    "            \"stars\":review[\"stars\"]\n",
    "\n",
    "        }\n",
    "    })\n",
    "\n",
    "    \n"
   ]
  },
  {
   "cell_type": "code",
   "execution_count": 26,
   "metadata": {},
   "outputs": [
    {
     "ename": "AttributeError",
     "evalue": "'list' object has no attribute 'type'",
     "output_type": "error",
     "traceback": [
      "\u001b[1;31m---------------------------------------------------------------------------\u001b[0m",
      "\u001b[1;31mAttributeError\u001b[0m                            Traceback (most recent call last)",
      "Cell \u001b[1;32mIn[26], line 2\u001b[0m\n\u001b[0;32m      1\u001b[0m processed_data[\u001b[38;5;241m0\u001b[39m]\n\u001b[1;32m----> 2\u001b[0m \u001b[38;5;28mprint\u001b[39m(\u001b[43mprocessed_data\u001b[49m\u001b[38;5;241;43m.\u001b[39;49m\u001b[43mtype\u001b[49m)\n",
      "\u001b[1;31mAttributeError\u001b[0m: 'list' object has no attribute 'type'"
     ]
    }
   ],
   "source": [
    "processed_data[0]\n",
    "print(processed_data)"
   ]
  },
  {
   "cell_type": "code",
   "execution_count": 24,
   "metadata": {},
   "outputs": [
    {
     "ename": "NameError",
     "evalue": "name 'vectors' is not defined",
     "output_type": "error",
     "traceback": [
      "\u001b[1;31m---------------------------------------------------------------------------\u001b[0m",
      "\u001b[1;31mNameError\u001b[0m                                 Traceback (most recent call last)",
      "Cell \u001b[1;32mIn[24], line 6\u001b[0m\n\u001b[0;32m      1\u001b[0m index \u001b[38;5;241m=\u001b[39m pc\u001b[38;5;241m.\u001b[39mIndex(\u001b[38;5;124m'\u001b[39m\u001b[38;5;124mrag\u001b[39m\u001b[38;5;124m'\u001b[39m)\n\u001b[0;32m      2\u001b[0m index\u001b[38;5;241m.\u001b[39mupsert(\n\u001b[0;32m      3\u001b[0m     vectors\u001b[38;5;241m=\u001b[39mprocessed_data,\n\u001b[0;32m      4\u001b[0m     namespace\u001b[38;5;241m=\u001b[39m\u001b[38;5;124m\"\u001b[39m\u001b[38;5;124mns1\u001b[39m\u001b[38;5;124m\"\u001b[39m\n\u001b[0;32m      5\u001b[0m )\n\u001b[1;32m----> 6\u001b[0m \u001b[43mvectors\u001b[49m\u001b[38;5;241m.\u001b[39mtype()\n",
      "\u001b[1;31mNameError\u001b[0m: name 'vectors' is not defined"
     ]
    }
   ],
   "source": [
    "index = pc.Index('rag')\n",
    "index.upsert(\n",
    "    vectors=processed_data,\n",
    "    namespace=\"ns1\"\n",
    ")\n"
   ]
  },
  {
   "cell_type": "code",
   "execution_count": 23,
   "metadata": {},
   "outputs": [
    {
     "data": {
      "text/plain": [
       "{'dimension': 1536,\n",
       " 'index_fullness': 0.0,\n",
       " 'namespaces': {'ns1': {'vector_count': 20}},\n",
       " 'total_vector_count': 20}"
      ]
     },
     "execution_count": 23,
     "metadata": {},
     "output_type": "execute_result"
    }
   ],
   "source": [
    "index.describe_index_stats()"
   ]
  }
 ],
 "metadata": {
  "kernelspec": {
   "display_name": "rag",
   "language": "python",
   "name": "python3"
  },
  "language_info": {
   "codemirror_mode": {
    "name": "ipython",
    "version": 3
   },
   "file_extension": ".py",
   "mimetype": "text/x-python",
   "name": "python",
   "nbconvert_exporter": "python",
   "pygments_lexer": "ipython3",
   "version": "3.10.14"
  }
 },
 "nbformat": 4,
 "nbformat_minor": 2
}
